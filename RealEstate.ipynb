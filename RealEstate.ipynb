{
  "nbformat": 4,
  "nbformat_minor": 0,
  "metadata": {
    "colab": {
      "provenance": [],
      "toc_visible": true,
      "authorship_tag": "ABX9TyNBQtm4zY/oi3yWIBmpdE5F",
      "include_colab_link": true
    },
    "kernelspec": {
      "name": "python3",
      "display_name": "Python 3"
    },
    "language_info": {
      "name": "python"
    }
  },
  "cells": [
    {
      "cell_type": "markdown",
      "metadata": {
        "id": "view-in-github",
        "colab_type": "text"
      },
      "source": [
        "<a href=\"https://colab.research.google.com/github/idarapatrick/USA-Real-Estate-Price-Prediction/blob/main/RealEstate.ipynb\" target=\"_parent\"><img src=\"https://colab.research.google.com/assets/colab-badge.svg\" alt=\"Open In Colab\"/></a>"
      ]
    },
    {
      "cell_type": "markdown",
      "source": [
        "House Prediction Analysis\n"
      ],
      "metadata": {
        "id": "X2ld62foWOcv"
      }
    },
    {
      "cell_type": "code",
      "source": [
        "import numpy as np\n",
        "import pandas as pd\n",
        "import matplotlib.pyplot as plt\n",
        "import seaborn as sns\n"
      ],
      "metadata": {
        "id": "ZGRFdiNmM5Qk"
      },
      "execution_count": 3,
      "outputs": []
    },
    {
      "cell_type": "code",
      "source": [
        "#load csv file\n",
        "data = pd.read_csv(\"/content/realtor-data.zip.csv\")\n",
        "\n",
        "#first few rows of dataset\n",
        "data_head = data.head()\n",
        "\n",
        "#view the first few rows\n",
        "print(data_head)"
      ],
      "metadata": {
        "id": "j4L7MJnLM5lT",
        "colab": {
          "base_uri": "https://localhost:8080/"
        },
        "outputId": "c410c1ec-e3eb-43fe-b3fd-5ef265014344"
      },
      "execution_count": 5,
      "outputs": [
        {
          "output_type": "stream",
          "name": "stdout",
          "text": [
            "     status  bed  bath  acre_lot        city        state  zip_code  \\\n",
            "0  for_sale  3.0   2.0      0.12    Adjuntas  Puerto Rico     601.0   \n",
            "1  for_sale  4.0   2.0      0.08    Adjuntas  Puerto Rico     601.0   \n",
            "2  for_sale  2.0   1.0      0.15  Juana Diaz  Puerto Rico     795.0   \n",
            "3  for_sale  4.0   2.0      0.10       Ponce  Puerto Rico     731.0   \n",
            "4  for_sale  6.0   2.0      0.05    Mayaguez  Puerto Rico     680.0   \n",
            "\n",
            "   house_size prev_sold_date     price  \n",
            "0       920.0            NaN  105000.0  \n",
            "1      1527.0            NaN   80000.0  \n",
            "2       748.0            NaN   67000.0  \n",
            "3      1800.0            NaN  145000.0  \n",
            "4         NaN            NaN   65000.0  \n"
          ]
        }
      ]
    },
    {
      "cell_type": "code",
      "source": [
        "#view the last few rows\n",
        "data_tail = data.tail()\n",
        "print(data_tail)"
      ],
      "metadata": {
        "colab": {
          "base_uri": "https://localhost:8080/"
        },
        "id": "ahwOUyReRX03",
        "outputId": "98584026-d5b0-4c37-c33e-9ea841d816c4"
      },
      "execution_count": 7,
      "outputs": [
        {
          "output_type": "stream",
          "name": "stdout",
          "text": [
            "          status  bed  bath  acre_lot         city          state  zip_code  \\\n",
            "108283  for_sale  4.0   4.0      1.15      Maynard  Massachusetts    1754.0   \n",
            "108284  for_sale  5.0   4.0      0.77   Chelmsford  Massachusetts    1824.0   \n",
            "108285  for_sale  3.0   3.0       NaN  Marlborough  Massachusetts    1752.0   \n",
            "108286  for_sale  3.0   2.0      0.28       Lowell  Massachusetts    1851.0   \n",
            "108287  for_sale  3.0   2.0      0.40  Westborough  Massachusetts       1.0   \n",
            "\n",
            "        house_size prev_sold_date     price  \n",
            "108283      4256.0            NaN  799000.0  \n",
            "108284      2996.0     2000-10-20  749900.0  \n",
            "108285      1821.0     2019-06-27  529900.0  \n",
            "108286      1400.0     1999-05-25  574900.0  \n",
            "108287         NaN            NaN       NaN  \n"
          ]
        }
      ]
    },
    {
      "cell_type": "code",
      "source": [
        "#check for empty values\n",
        "null_values = data.drop_duplicates()\n",
        "\n",
        "#checking for empty values\n",
        "print(data.isnull().sum())"
      ],
      "metadata": {
        "colab": {
          "base_uri": "https://localhost:8080/"
        },
        "id": "CSMbydcpSdLp",
        "outputId": "84296856-5d10-4426-9b17-93ab5ebbed43"
      },
      "execution_count": 13,
      "outputs": [
        {
          "output_type": "stream",
          "name": "stdout",
          "text": [
            "status                0\n",
            "bed               25487\n",
            "bath              25479\n",
            "acre_lot          16414\n",
            "city                 52\n",
            "state                 0\n",
            "zip_code            195\n",
            "house_size        25400\n",
            "prev_sold_date    75636\n",
            "price                 1\n",
            "dtype: int64\n"
          ]
        }
      ]
    },
    {
      "cell_type": "code",
      "source": [
        "data_cleaned = data.dropna()  # Drops rows with any null values\n",
        "\n",
        "print(data_cleaned.tail())  # Check the new shape to see how many rows were dropped\n"
      ],
      "metadata": {
        "colab": {
          "base_uri": "https://localhost:8080/"
        },
        "id": "o_ieMe91TEe5",
        "outputId": "31b9074d-9f35-47ac-bad2-6f956f9fdbbd"
      },
      "execution_count": 16,
      "outputs": [
        {
          "output_type": "stream",
          "name": "stdout",
          "text": [
            "          status  bed  bath  acre_lot        city          state  zip_code  \\\n",
            "108279  for_sale  3.0   3.0      3.88      Bolton  Massachusetts    1740.0   \n",
            "108281  for_sale  1.0   1.0      0.11     Clinton  Massachusetts    1510.0   \n",
            "108282  for_sale  5.0   4.0      0.42  Framingham  Massachusetts    1701.0   \n",
            "108284  for_sale  5.0   4.0      0.77  Chelmsford  Massachusetts    1824.0   \n",
            "108286  for_sale  3.0   2.0      0.28      Lowell  Massachusetts    1851.0   \n",
            "\n",
            "        house_size prev_sold_date     price  \n",
            "108279      3921.0     2000-07-07  799000.0  \n",
            "108281       574.0     2019-09-17  105000.0  \n",
            "108282      4279.0     2000-01-18  899900.0  \n",
            "108284      2996.0     2000-10-20  749900.0  \n",
            "108286      1400.0     1999-05-25  574900.0  \n"
          ]
        }
      ]
    },
    {
      "cell_type": "markdown",
      "source": [],
      "metadata": {
        "id": "VoZc74yDU_Nd"
      }
    },
    {
      "cell_type": "code",
      "source": [],
      "metadata": {
        "id": "0-DA5TQzVz_F"
      },
      "execution_count": null,
      "outputs": []
    }
  ]
}